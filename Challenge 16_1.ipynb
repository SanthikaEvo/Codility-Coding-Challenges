{
 "cells": [
  {
   "cell_type": "markdown",
   "id": "e0fbe3b3",
   "metadata": {},
   "source": [
    "# Codility coding challenges\n",
    "\n",
    "#### By Anushka Thenuwara, PhD\n",
    "\n",
    "This is a potential coding challenge that you may come across during an interview process. The service provider is Codility where they allow employers to gauge the coding ability of prospective team members. Codility also provides additional challenges which are freely accessible. I picked one challenge on;\n",
    "\n",
    "Link: https://app.codility.com/programmers/lessons/16-greedy_algorithms/tie_ropes/"
   ]
  },
  {
   "cell_type": "markdown",
   "id": "717dfe98",
   "metadata": {},
   "source": [
    "### Challege 16_1:\n",
    "\n",
    "There are N ropes numbered from 0 to N − 1, whose lengths are given in an array A, lying on the floor in a line. For each I (0 ≤ I < N), the length of rope I on the line is A[I].\n",
    "\n",
    "We say that two ropes I and I + 1 are adjacent. Two adjacent ropes can be tied together with a knot, and the length of the tied rope is the sum of lengths of both ropes. The resulting new rope can then be tied again.\n",
    "\n",
    "For a given integer K, the goal is to tie the ropes in such a way that the number of ropes whose length is greater than or equal to K is maximal.\n",
    "\n",
    "For example, consider K = 4 and array A such that:\n",
    "\n",
    "    A[0] = 1\n",
    "    A[1] = 2\n",
    "    A[2] = 3\n",
    "    A[3] = 4\n",
    "    A[4] = 1\n",
    "    A[5] = 1\n",
    "    A[6] = 3\n",
    "The ropes are shown in the figure below.\n",
    "\n",
    "\n",
    "\n",
    "We can tie:\n",
    "\n",
    "1) rope 1 with rope 2 to produce a rope of length A[1] + A[2] = 5;\n",
    "\n",
    "2) rope 4 with rope 5 with rope 6 to produce a rope of length A[4] + A[5] + A[6] = 5.\n",
    "\n",
    "After that, there will be three ropes whose lengths are greater than or equal to K = 4. It is not possible to produce four such ropes.\n",
    "\n",
    "Write a function:\n",
    "\n",
    "def solution(K, A)\n",
    "\n",
    "that, given an integer K and a non-empty array A of N integers, returns the maximum number of ropes of length greater than or equal to K that can be created.\n",
    "\n",
    "For example, given K = 4 and array A such that:\n",
    "\n",
    "    A[0] = 1\n",
    "    A[1] = 2\n",
    "    A[2] = 3\n",
    "    A[3] = 4\n",
    "    A[4] = 1\n",
    "    A[5] = 1\n",
    "    A[6] = 3\n",
    "    \n",
    "the function should return 3, as explained above.\n",
    "\n",
    "Write an efficient algorithm for the following assumptions:\n",
    "\n",
    "N is an integer within the range [1..100,000];\n",
    "K is an integer within the range [1..1,000,000,000];\n",
    "each element of array A is an integer within the range [1..1,000,000,000]."
   ]
  },
  {
   "cell_type": "markdown",
   "id": "f7fcff48",
   "metadata": {},
   "source": [
    "### Outline:\n",
    "\n",
    "Key point is that only adjacent ropes can be tied together, this means that the code only needs to iterate over the sequentially. However, if the ropes can be re-arranged then the approach would be different "
   ]
  },
  {
   "cell_type": "markdown",
   "id": "493a57b3",
   "metadata": {},
   "source": [
    "### Solution:"
   ]
  },
  {
   "cell_type": "code",
   "execution_count": 1,
   "id": "91691dac",
   "metadata": {},
   "outputs": [],
   "source": [
    "def solution(K, A):\n",
    "    T = 0\n",
    "    C = 0\n",
    "    L = len(A)\n",
    "\n",
    "    for i in range(L):\n",
    "        T = T + A[i]     #sequentially adding adjacent ropes \n",
    "        if T >= K:       #checking the length of the added ropes with the condition \n",
    "            C = C + 1    #increasing count for the number of ropes of length greater than K\n",
    "            T = 0        #resetting the temporary adding parameter\n",
    "    return C             #returning the number of rope count"
   ]
  },
  {
   "cell_type": "markdown",
   "id": "db48d450",
   "metadata": {},
   "source": [
    "### Testing:"
   ]
  },
  {
   "cell_type": "code",
   "execution_count": 2,
   "id": "2f607af9",
   "metadata": {},
   "outputs": [
    {
     "name": "stdout",
     "output_type": "stream",
     "text": [
      "3\n"
     ]
    }
   ],
   "source": [
    "A = [1,2,3,4,1,1,3]\n",
    "K = 4 \n",
    "B = solution(K, A)\n",
    "print(B)"
   ]
  },
  {
   "cell_type": "markdown",
   "id": "27b24515",
   "metadata": {},
   "source": [
    "Hope it helps and please do not hesitate to comment on any areas that I may improve or on any other aspects that I should consider here.\n",
    "\n",
    "Thank you,\n",
    "Anushka"
   ]
  },
  {
   "cell_type": "code",
   "execution_count": null,
   "id": "d5de4485",
   "metadata": {},
   "outputs": [],
   "source": []
  }
 ],
 "metadata": {
  "kernelspec": {
   "display_name": "Python 3",
   "language": "python",
   "name": "python3"
  },
  "language_info": {
   "codemirror_mode": {
    "name": "ipython",
    "version": 3
   },
   "file_extension": ".py",
   "mimetype": "text/x-python",
   "name": "python",
   "nbconvert_exporter": "python",
   "pygments_lexer": "ipython3",
   "version": "3.8.8"
  }
 },
 "nbformat": 4,
 "nbformat_minor": 5
}
