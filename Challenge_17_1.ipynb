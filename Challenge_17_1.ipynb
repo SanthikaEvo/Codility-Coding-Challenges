{
 "cells": [
  {
   "cell_type": "markdown",
   "id": "e0fbe3b3",
   "metadata": {},
   "source": [
    "# Codility coding challenges\n",
    "\n",
    "#### By Anushka Thenuwara, PhD\n",
    "\n",
    "This is a potential coding challenge that you may come across during an interview process. The service provider is Codility where they allow employers to gauge the coding ability of prospective team members. Codility also provides additional challenges which are freely accessible. I picked one challenge on;\n",
    "\n",
    "Link: https://app.codility.com/programmers/lessons/17-dynamic_programming/number_solitaire/"
   ]
  },
  {
   "cell_type": "markdown",
   "id": "717dfe98",
   "metadata": {},
   "source": [
    "### Challege 17_1:\n",
    "\n",
    "A game for one player is played on a board consisting of N consecutive squares, numbered from 0 to N − 1. There is a number written on each square. A non-empty array A of N integers contains the numbers written on the squares. Moreover, some squares can be marked during the game.\n",
    "\n",
    "At the beginning of the game, there is a pebble on square number 0 and this is the only square on the board which is marked. The goal of the game is to move the pebble to square number N − 1.\n",
    "\n",
    "During each turn we throw a six-sided die, with numbers from 1 to 6 on its faces, and consider the number K, which shows on the upper face after the die comes to rest. Then we move the pebble standing on square number I to square number I + K, providing that square number I + K exists. If square number I + K does not exist, we throw the die again until we obtain a valid move. Finally, we mark square number I + K.\n",
    "\n",
    "After the game finishes (when the pebble is standing on square number N − 1), we calculate the result. The result of the game is the sum of the numbers written on all marked squares.\n",
    "\n",
    "For example, given the following array:\n",
    "\n",
    "    A[0] = 1\n",
    "    A[1] = -2\n",
    "    A[2] = 0\n",
    "    A[3] = 9\n",
    "    A[4] = -1\n",
    "    A[5] = -2\n",
    "\n",
    "one possible game could be as follows:\n",
    "\n",
    "the pebble is on square number 0, which is marked;\n",
    "we throw 3; the pebble moves from square number 0 to square number 3; we mark square number 3;\n",
    "we throw 5; the pebble does not move, since there is no square number 8 on the board;\n",
    "we throw 2; the pebble moves to square number 5; we mark this square and the game ends.\n",
    "The marked squares are 0, 3 and 5, so the result of the game is 1 + 9 + (−2) = 8. This is the maximal possible result that can be achieved on this board.\n",
    "\n",
    "Write a function:\n",
    "\n",
    "def solution(A)\n",
    "\n",
    "that, given a non-empty array A of N integers, returns the maximal result that can be achieved on the board represented by array A.\n",
    "\n",
    "For example, given the array\n",
    "\n",
    "    A[0] = 1\n",
    "    A[1] = -2\n",
    "    A[2] = 0\n",
    "    A[3] = 9\n",
    "    A[4] = -1\n",
    "    A[5] = -2\n",
    "\n",
    "the function should return 8, as explained above.\n",
    "\n",
    "Write an efficient algorithm for the following assumptions:\n",
    "\n",
    "N is an integer within the range [2..100,000];\n",
    "each element of array A is an integer within the range [−10,000..10,000]."
   ]
  },
  {
   "cell_type": "markdown",
   "id": "68a17f44",
   "metadata": {},
   "source": [
    "### Outline:\n",
    "\n",
    "To get the maximum value at the end the pebble should visit all the positive numbers in data segment of 6. Once the total for the segment of 6 is picked, then the pebble should restart from the end last positive number of the segment of 6. This should repeat until the end of A is reached.\n",
    "\n",
    "### Working:\n",
    "\n",
    "Here I work within a single line so I can get everything to work before I adopt it to a funnction"
   ]
  },
  {
   "cell_type": "code",
   "execution_count": 1,
   "id": "2a159011",
   "metadata": {},
   "outputs": [
    {
     "name": "stdout",
     "output_type": "stream",
     "text": [
      "B= [-1, -2, -9, -3, -5]\n",
      "C= [-1]\n",
      "S= 2\n",
      "-------\n",
      "B= [-2, -9, -3, -5, -4, -20]\n",
      "C= [-2]\n",
      "S= 3\n",
      "-------\n",
      "B= [-9, -3, -5, -4, -20, -10]\n",
      "C= [-3]\n",
      "S= 5\n",
      "-------\n",
      "B= [-5, -4, -20, -10, 9, -1]\n",
      "C= [9]\n",
      "S= 10\n",
      "-------\n",
      "B= [-1, 12, -2]\n",
      "C= [12]\n",
      "S= 12\n",
      "-------\n",
      "14\n"
     ]
    }
   ],
   "source": [
    "A = [1,-1,-2,-9,-3,-5,-4,-20,-10,9,-1,12,-2]     # Starting sequence\n",
    "#A = [1,4,5,8,9]\n",
    "\n",
    "M = A[0]+A[-1]                               # Initiating the Max value with the starting and ending values of A\n",
    "S = 0                                        # Starting point of the pebble\n",
    "\n",
    "while (len(A)-S>1):\n",
    "    if (S == 0) and (len(A) <= 6):           # If the size of the incoming A is less than or equal to 6\n",
    "        B = A[1:len(A)-1]\n",
    "    elif (S == 0):                           # No need to add the starting point to Max\n",
    "        B = A[1:S+6]\n",
    "    elif (S+6 == len(A)):                    # No need to add the ending point to Max\n",
    "        B = A[S:S+5]\n",
    "    else:\n",
    "        B = A[S:S+6]                         # Continue and assign segments of 6 to variable B\n",
    "    print('B=',B)                            # Output\n",
    "    B.sort()                                 # Arrange the values in ascending order\n",
    "    C = [x for x in B if x > 0]              # Pick the positive values of 6 item segment and assign to C\n",
    "    if (C == []):\n",
    "        C = [max(B)]                         # If all numbers of the selected segment are negarive, pick the least negative number\n",
    "    print('C=',C)                            # Output\n",
    "    M = M + sum(C)                           # Add to Max\n",
    "    I = 0                                    # Initiate variable to pick the ending position for the pebble\n",
    "    for j in range (len(C)):\n",
    "        J = len(A[S:S+6]) - 1 - A[S:S+6][::-1].index(C[j]) # Pick the last largest number in reversed index\n",
    "        if (J>I):                            # Pick the largest position\n",
    "            I = J\n",
    "    S = S + I + 1                            # Redefine starting point for the next segment of 6\n",
    "    print('S=',S)                            # Output\n",
    "    print('-------')                         # Separator\n",
    "\n",
    "print (M)"
   ]
  },
  {
   "cell_type": "markdown",
   "id": "493a57b3",
   "metadata": {},
   "source": [
    "### Solution:"
   ]
  },
  {
   "cell_type": "code",
   "execution_count": 2,
   "id": "91691dac",
   "metadata": {},
   "outputs": [],
   "source": [
    "def solution(A):\n",
    "    M = A[0]+A[-1]\n",
    "    S = 0\n",
    "\n",
    "    while (len(A)-S>1):\n",
    "        if (S == 0) and (len(A) <= 6):           \n",
    "            B = A[1:len(A)-1]\n",
    "        elif (S == 0):\n",
    "            B = A[1:S+6]\n",
    "        elif (S+6 == len(A)):\n",
    "            B = A[S:S+5]\n",
    "        elif (S == 0) and (S+6 <= len(A)):\n",
    "            B = A[1:len(A)-1]\n",
    "        else:\n",
    "            B = A[S:S+6]\n",
    "        B.sort()\n",
    "        C = [x for x in B if x > 0]\n",
    "        if (C == []):\n",
    "            C = [max(B)]\n",
    "        M = M + sum(C)\n",
    "        I = 0\n",
    "        for j in range (len(C)):\n",
    "            J = len(A[S:S+6]) - 1 - A[S:S+6][::-1].index(C[j])\n",
    "            if (J>I):\n",
    "                I = J\n",
    "        S = S + I + 1\n",
    "    return M"
   ]
  },
  {
   "cell_type": "markdown",
   "id": "db48d450",
   "metadata": {},
   "source": [
    "### Testing:"
   ]
  },
  {
   "cell_type": "code",
   "execution_count": 3,
   "id": "2f607af9",
   "metadata": {},
   "outputs": [
    {
     "name": "stdout",
     "output_type": "stream",
     "text": [
      "27\n"
     ]
    }
   ],
   "source": [
    "A = [1,4,5,8,9]\n",
    "\n",
    "O = solution(A)\n",
    "print(O)"
   ]
  },
  {
   "cell_type": "markdown",
   "id": "27b24515",
   "metadata": {},
   "source": [
    "Hope it helps and please do not hesitate to comment on any areas that I may improve or on any other aspects that I should consider here.\n",
    "\n",
    "Thank you,\n",
    "\n",
    "Anushka"
   ]
  },
  {
   "cell_type": "code",
   "execution_count": null,
   "id": "d5de4485",
   "metadata": {},
   "outputs": [],
   "source": []
  }
 ],
 "metadata": {
  "kernelspec": {
   "display_name": "Python 3",
   "language": "python",
   "name": "python3"
  },
  "language_info": {
   "codemirror_mode": {
    "name": "ipython",
    "version": 3
   },
   "file_extension": ".py",
   "mimetype": "text/x-python",
   "name": "python",
   "nbconvert_exporter": "python",
   "pygments_lexer": "ipython3",
   "version": "3.8.8"
  }
 },
 "nbformat": 4,
 "nbformat_minor": 5
}
