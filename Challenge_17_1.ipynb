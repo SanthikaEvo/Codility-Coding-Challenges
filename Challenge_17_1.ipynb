{
 "cells": [
  {
   "cell_type": "markdown",
   "id": "e0fbe3b3",
   "metadata": {},
   "source": [
    "# Codility coding challenges\n",
    "\n",
    "#### By Anushka Thenuwara, PhD\n",
    "\n",
    "This is a potential coding challenge that you may come across during an interview process. The service provider is Codility where they allow employers to gauge the coding ability of prospective team members. Codility also provides additional challenges which are freely accessible. I picked one challenge on;\n",
    "\n",
    "Link: https://app.codility.com/programmers/lessons/17-dynamic_programming/number_solitaire/"
   ]
  },
  {
   "cell_type": "markdown",
   "id": "717dfe98",
   "metadata": {},
   "source": [
    "### Challege 17_1:\n",
    "\n",
    "A game for one player is played on a board consisting of N consecutive squares, numbered from 0 to N − 1. There is a number written on each square. A non-empty array A of N integers contains the numbers written on the squares. Moreover, some squares can be marked during the game.\n",
    "\n",
    "At the beginning of the game, there is a pebble on square number 0 and this is the only square on the board which is marked. The goal of the game is to move the pebble to square number N − 1.\n",
    "\n",
    "During each turn we throw a six-sided die, with numbers from 1 to 6 on its faces, and consider the number K, which shows on the upper face after the die comes to rest. Then we move the pebble standing on square number I to square number I + K, providing that square number I + K exists. If square number I + K does not exist, we throw the die again until we obtain a valid move. Finally, we mark square number I + K.\n",
    "\n",
    "After the game finishes (when the pebble is standing on square number N − 1), we calculate the result. The result of the game is the sum of the numbers written on all marked squares.\n",
    "\n",
    "For example, given the following array:\n",
    "\n",
    "    A[0] = 1\n",
    "    A[1] = -2\n",
    "    A[2] = 0\n",
    "    A[3] = 9\n",
    "    A[4] = -1\n",
    "    A[5] = -2\n",
    "\n",
    "one possible game could be as follows:\n",
    "\n",
    "the pebble is on square number 0, which is marked;\n",
    "we throw 3; the pebble moves from square number 0 to square number 3; we mark square number 3;\n",
    "we throw 5; the pebble does not move, since there is no square number 8 on the board;\n",
    "we throw 2; the pebble moves to square number 5; we mark this square and the game ends.\n",
    "The marked squares are 0, 3 and 5, so the result of the game is 1 + 9 + (−2) = 8. This is the maximal possible result that can be achieved on this board.\n",
    "\n",
    "Write a function:\n",
    "\n",
    "def solution(A)\n",
    "\n",
    "that, given a non-empty array A of N integers, returns the maximal result that can be achieved on the board represented by array A.\n",
    "\n",
    "For example, given the array\n",
    "\n",
    "    A[0] = 1\n",
    "    A[1] = -2\n",
    "    A[2] = 0\n",
    "    A[3] = 9\n",
    "    A[4] = -1\n",
    "    A[5] = -2\n",
    "\n",
    "the function should return 8, as explained above.\n",
    "\n",
    "Write an efficient algorithm for the following assumptions:\n",
    "\n",
    "N is an integer within the range [2..100,000];\n",
    "each element of array A is an integer within the range [−10,000..10,000]."
   ]
  },
  {
   "cell_type": "markdown",
   "id": "68a17f44",
   "metadata": {},
   "source": [
    "### Outline:\n",
    "\n",
    "To get the maximum value at the end the pebble should visit all the positive numbers in data segment of 6. Once the total for the segment of 6 is picked, then the pebble should restart from the end last positive number of the segment of 6. This should repeat until the end of A is reached.\n",
    "\n",
    "### Working:\n",
    "\n",
    "Here I work within a single line so I can get everything to work before I adopt it to a funnction"
   ]
  },
  {
   "cell_type": "code",
   "execution_count": 4,
   "id": "2a159011",
   "metadata": {
    "scrolled": true
   },
   "outputs": [
    {
     "name": "stdout",
     "output_type": "stream",
     "text": [
      "B= [1, -1, -2, -9, -3, -5]\n",
      "M= 1 I= 0 S= 0\n",
      "S= 1\n",
      "-------\n",
      "B= [-1, -2, -9, -3, -5, -4]\n",
      "S= 2\n",
      "-------\n",
      "B= [-2, -9, -3, -5, -4, -20]\n",
      "S= 3\n",
      "-------\n",
      "B= [-9, -3, -5, -4, -20, -10]\n",
      "S= 5\n",
      "-------\n",
      "B= [-5, -4, -20, -10, 9, -1]\n",
      "M= 4 I= 4 S= 5\n",
      "S= 10\n",
      "-------\n",
      "B= [-1, 12, -2]\n",
      "M= 16 I= 1 S= 10\n",
      "S= 12\n",
      "-------\n",
      "B= [-2]\n",
      "S= 13\n",
      "-------\n",
      "14\n"
     ]
    }
   ],
   "source": [
    "A = [1,-1,-2,-9,-3,-5,-4,-20,-10,9,-1,12,-2]     # Starting sequence\n",
    "#A = [1,4,5,8,9]\n",
    "\n",
    "M = 0                                        # Initiating max value\n",
    "S = 0                                        # Starting point of the pebble\n",
    "\n",
    "while (len(A)-S>0):\n",
    "    if (len(A) < 6):                         # If the size of the incoming A is less than or equal to 6\n",
    "        B = A[0:len(A)]\n",
    "    else:\n",
    "        B = A[S:S+6]                         # Continue and assign segments of 6 to variable B\n",
    "    \n",
    "    print('B=',B)                            # Output\n",
    "    \n",
    "    if (max(B)<0):                           # If all values of the segment of 6 is negative\n",
    "        M = M + max(B)                       # Pick the least negative value and add to max\n",
    "        I = len(B) - 1 - B[::-1].index(max(B)) # Pick the largest index of the segment of 6 relating to the least negartive value \n",
    "        S = S + I + 1                        # Reset the starting point of the pebble for the next iteration\n",
    "    \n",
    "    else:                                    # If all values of the segment of 6 is a mix of positive and negative\n",
    "        I = 0\n",
    "        for i, V in enumerate(B):\n",
    "            if (V>0):                        # Check for the postive values and add to max\n",
    "                M = M + V\n",
    "                if i > I:                    # Store the largest index of postive value\n",
    "                    I = i\n",
    "        print('M=',M, 'I=', I,'S=', S)       # Output\n",
    "        S = S + I + 1                        # Reset the starting point of the pebble for the next iteration\n",
    "    print('S=',S)                            # Output\n",
    "    print('-------')                         # Separator\n",
    "\n",
    "print (M)"
   ]
  },
  {
   "cell_type": "markdown",
   "id": "493a57b3",
   "metadata": {},
   "source": [
    "### Solution:"
   ]
  },
  {
   "cell_type": "code",
   "execution_count": 2,
   "id": "91691dac",
   "metadata": {},
   "outputs": [],
   "source": [
    "def solution(A):\n",
    "    M = 0\n",
    "    S = 0\n",
    "\n",
    "    while (len(A)-S>0):\n",
    "        if (len(A) < 6):\n",
    "            B = A[0:len(A)]\n",
    "        else:\n",
    "            B = A[S:S+6]\n",
    "\n",
    "        if (max(B)<0):\n",
    "            M = M + max(B)\n",
    "            I = len(B) - 1 - B[::-1].index(max(B))\n",
    "            S = S + I + 1\n",
    "\n",
    "        else:\n",
    "            I = 0\n",
    "            for i, V in enumerate(B):\n",
    "                if (V>0):\n",
    "                    M = M + V\n",
    "                    if i > I:\n",
    "                        I = i\n",
    "            S = S + I + 1\n",
    "    return M"
   ]
  },
  {
   "cell_type": "markdown",
   "id": "db48d450",
   "metadata": {},
   "source": [
    "### Testing:"
   ]
  },
  {
   "cell_type": "code",
   "execution_count": 3,
   "id": "2f607af9",
   "metadata": {},
   "outputs": [
    {
     "name": "stdout",
     "output_type": "stream",
     "text": [
      "27\n"
     ]
    }
   ],
   "source": [
    "A = [1,4,5,8,9]\n",
    "\n",
    "O = solution(A)\n",
    "print(O)"
   ]
  },
  {
   "cell_type": "markdown",
   "id": "27b24515",
   "metadata": {},
   "source": [
    "Hope it helps and please do not hesitate to comment on any areas that I may improve or on any other aspects that I should consider here.\n",
    "\n",
    "Thank you,\n",
    "\n",
    "Anushka"
   ]
  },
  {
   "cell_type": "code",
   "execution_count": null,
   "id": "d5de4485",
   "metadata": {},
   "outputs": [],
   "source": []
  }
 ],
 "metadata": {
  "kernelspec": {
   "display_name": "Python 3",
   "language": "python",
   "name": "python3"
  },
  "language_info": {
   "codemirror_mode": {
    "name": "ipython",
    "version": 3
   },
   "file_extension": ".py",
   "mimetype": "text/x-python",
   "name": "python",
   "nbconvert_exporter": "python",
   "pygments_lexer": "ipython3",
   "version": "3.8.8"
  }
 },
 "nbformat": 4,
 "nbformat_minor": 5
}
