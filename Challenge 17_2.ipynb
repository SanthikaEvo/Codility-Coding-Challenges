{
 "cells": [
  {
   "cell_type": "markdown",
   "id": "e0fbe3b3",
   "metadata": {},
   "source": [
    "# Codility coding challenges\n",
    "\n",
    "#### By Anushka Thenuwara, PhD\n",
    "\n",
    "This is a potential coding challenge that you may come across during an interview process. The service provider is Codility where they allow employers to gauge the coding ability of prospective team members. Codility also provides additional challenges which are freely accessible. I picked one challenge on;\n",
    "\n",
    "Link: https://app.codility.com/programmers/lessons/17-dynamic_programming/min_abs_sum/"
   ]
  },
  {
   "cell_type": "markdown",
   "id": "717dfe98",
   "metadata": {},
   "source": [
    "### Challege 17:\n",
    "\n",
    "For a given array A of N integers and a sequence S of N integers from the set {−1, 1}, we define val(A, S) as follows:\n",
    "\n",
    "val(A, S) = |sum{ A[i]*S[i] for i = 0..N−1 }|\n",
    "\n",
    "(Assume that the sum of zero elements equals zero.)\n",
    "\n",
    "For a given array A, we are looking for such a sequence S that minimizes val(A,S).\n",
    "\n",
    "Write a function:\n",
    "\n",
    "def solution(A)\n",
    "\n",
    "that, given an array A of N integers, computes the minimum value of val(A,S) from all possible values of val(A,S) for all possible sequences S of N integers from the set {−1, 1}.\n",
    "\n",
    "For example, given array:\n",
    "\n",
    "  A[0] =  1\n",
    "  \n",
    "  A[1] =  5\n",
    "  \n",
    "  A[2] =  2\n",
    "  \n",
    "  A[3] = -2\n",
    "  \n",
    "your function should return 0, since for S = [−1, 1, −1, 1], val(A, S) = 0, which is the minimum possible value.\n",
    "\n",
    "Write an efficient algorithm for the following assumptions:\n",
    "\n",
    "N is an integer within the range [0..20,000];\n",
    "each element of array A is an integer within the range [−100..100]."
   ]
  },
  {
   "cell_type": "markdown",
   "id": "f7fcff48",
   "metadata": {},
   "source": [
    "### Outline:\n",
    "\n",
    "I miss understood the whole challenge and was under the impression that the solution should produce S = [-1,1,-1,1] as well. However, that is not a part of the challenge. I was struggling to produce a result and I researched on what other people have done. The following links show the solutions;\n",
    "\n",
    "Link 1: https://github.com/Kuvaldis/Algorithm/blob/master/src/main/java/kuvaldis/algorithm/codility/MinAbsSum.java\n",
    "\n",
    "Link 2: https://massivealgorithms.blogspot.com/2015/07/codility-minabssum-min-abs-sum.html\n",
    "\n",
    "Link 3: https://codility.com/media/train/solution-min-abs-sum.pdf\n",
    "\n",
    "Only when I studied these solutions that I realised the function only needs to output the result of val(A, S). I came up with the following solution."
   ]
  },
  {
   "cell_type": "markdown",
   "id": "493a57b3",
   "metadata": {},
   "source": [
    "### Solution:"
   ]
  },
  {
   "cell_type": "code",
   "execution_count": 1,
   "id": "91691dac",
   "metadata": {},
   "outputs": [],
   "source": [
    "def solution(A):\n",
    "    print(A)\n",
    "    N = len(A)\n",
    "\n",
    "    for i in range(N):\n",
    "        A[i] = abs(A[i])\n",
    "\n",
    "    A.sort()\n",
    "\n",
    "    for i in range(N-1):\n",
    "        A[-2] = A[-1]-A[-2]\n",
    "        A.pop()\n",
    "        A.sort()\n",
    "    return A\n"
   ]
  },
  {
   "cell_type": "markdown",
   "id": "db48d450",
   "metadata": {},
   "source": [
    "### Testing:"
   ]
  },
  {
   "cell_type": "code",
   "execution_count": 2,
   "id": "2f607af9",
   "metadata": {},
   "outputs": [
    {
     "name": "stdout",
     "output_type": "stream",
     "text": [
      "[1, 5, 2, -2]\n",
      "[0]\n"
     ]
    }
   ],
   "source": [
    "A = [1,5,2,-2]\n",
    "B = solution(A)\n",
    "print(B)"
   ]
  },
  {
   "cell_type": "markdown",
   "id": "27b24515",
   "metadata": {},
   "source": [
    "Hope it helps and please do not hesitate to comment on any areas that I may improve or on any other aspects that I should consider here.\n",
    "\n",
    "Thank you,\n",
    "Anushka"
   ]
  },
  {
   "cell_type": "code",
   "execution_count": null,
   "id": "d5de4485",
   "metadata": {},
   "outputs": [],
   "source": []
  }
 ],
 "metadata": {
  "kernelspec": {
   "display_name": "Python 3",
   "language": "python",
   "name": "python3"
  },
  "language_info": {
   "codemirror_mode": {
    "name": "ipython",
    "version": 3
   },
   "file_extension": ".py",
   "mimetype": "text/x-python",
   "name": "python",
   "nbconvert_exporter": "python",
   "pygments_lexer": "ipython3",
   "version": "3.8.8"
  }
 },
 "nbformat": 4,
 "nbformat_minor": 5
}
